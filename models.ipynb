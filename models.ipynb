{
  "nbformat": 4,
  "nbformat_minor": 0,
  "metadata": {
    "colab": {
      "name": "models",
      "provenance": [],
      "collapsed_sections": [],
      "authorship_tag": "ABX9TyMW7+MBpu6kmWflU/mkjcve",
      "include_colab_link": true
    },
    "kernelspec": {
      "name": "python3",
      "display_name": "Python 3"
    },
    "language_info": {
      "name": "python"
    },
    "accelerator": "GPU"
  },
  "cells": [
    {
      "cell_type": "markdown",
      "metadata": {
        "id": "view-in-github",
        "colab_type": "text"
      },
      "source": [
        "<a href=\"https://colab.research.google.com/github/matteo-ticli/CNN_LSTM-stock-prices-prediction/blob/main/models.ipynb\" target=\"_parent\"><img src=\"https://colab.research.google.com/assets/colab-badge.svg\" alt=\"Open In Colab\"/></a>"
      ]
    },
    {
      "cell_type": "code",
      "metadata": {
        "colab": {
          "base_uri": "https://localhost:8080/"
        },
        "id": "eE-JawzoI2Sy",
        "outputId": "12675add-dc14-4ae5-ea6a-07d285757a05"
      },
      "source": [
        "from google.colab import drive\n",
        "drive.mount('/content/drive')"
      ],
      "execution_count": 1,
      "outputs": [
        {
          "output_type": "stream",
          "text": [
            "Drive already mounted at /content/drive; to attempt to forcibly remount, call drive.mount(\"/content/drive\", force_remount=True).\n"
          ],
          "name": "stdout"
        }
      ]
    },
    {
      "cell_type": "code",
      "metadata": {
        "id": "KTm6cqHEI3iu"
      },
      "source": [
        "import os\n",
        "import numpy as np\n",
        "import tensorflow as tf\n",
        "from sklearn.model_selection import train_test_split, KFold, StratifiedKFold\n",
        "from keras.utils import to_categorical, plot_model\n",
        "from keras.models import Sequential,Input,Model\n",
        "from keras.layers import Dense, Dropout, Flatten\n",
        "from keras.layers import Conv3D, MaxPooling3D, MaxPool3D, GlobalAveragePooling3D, Concatenate, Input\n",
        "from keras.layers.normalization import BatchNormalization\n",
        "from keras.layers.advanced_activations import LeakyReLU\n",
        "from keras.optimizers import Adam\n",
        "import keras.backend as K"
      ],
      "execution_count": 3,
      "outputs": []
    },
    {
      "cell_type": "code",
      "metadata": {
        "id": "y2tInGwdJPaO"
      },
      "source": [
        "tensor = np.load('/content/drive/MyDrive/FinalProject/data/tensor_1000_2000.npy')\n",
        "labels = np.load('/content/drive/MyDrive/FinalProject/data/labels_1000_2000.npy')"
      ],
      "execution_count": 4,
      "outputs": []
    },
    {
      "cell_type": "code",
      "metadata": {
        "id": "hxFJVXnjJbhm"
      },
      "source": [
        "x_train, x_test, y_train, y_test = train_test_split(tensor, labels, train_size=0.8, random_state = 42)\n",
        "\n",
        "x_train, x_test = np.reshape(x_train, x_train.shape + (1,)), np.reshape(x_test, x_test.shape + (1,))\n",
        "y_train, y_test = to_categorical(y_train), to_categorical(y_test)"
      ],
      "execution_count": 19,
      "outputs": []
    },
    {
      "cell_type": "code",
      "metadata": {
        "id": "N75K4vKWoOGW"
      },
      "source": [
        "input_shape = x_train.shape[1:]\n",
        "batch_size = 32\n",
        "epochs = 100\n",
        "num_filters = 10"
      ],
      "execution_count": 22,
      "outputs": []
    },
    {
      "cell_type": "markdown",
      "metadata": {
        "id": "DNm2ibZzvX-y"
      },
      "source": [
        "####Try to replicate the paper model with two parallel CNN, one merge layer, one CNN, one CNN a flattened layer, a fully connected layer and the output layer"
      ]
    },
    {
      "cell_type": "code",
      "metadata": {
        "id": "zFVWoz0meFFV"
      },
      "source": [
        "## define Input\n",
        "inp = Input(shape=input_shape)\n",
        "\n",
        "## two parallel Conv3D \n",
        "conv_1 = Conv3D(filters=num_filters, \n",
        "                kernel_size=(10, 1, 1), \n",
        "                padding='SAME', \n",
        "                data_format='channels_last',\n",
        "                activation = 'relu',\n",
        "                input_shape = input_shape)(inp)\n",
        "\n",
        "conv_2 = Conv3D(filters=num_filters, \n",
        "                kernel_size=(10, 3, 3), \n",
        "                padding='SAME', \n",
        "                data_format='channels_last',\n",
        "                activation = 'relu',\n",
        "                input_shape = input_shape)(inp)\n",
        "\n",
        "## merge layer\n",
        "merged = Concatenate(axis=1)([conv_1, conv_2])\n",
        "\n",
        "## third Conv3D \n",
        "conv_3 = Conv3D(filters=num_filters, \n",
        "                kernel_size=(10, 3, 5), \n",
        "                padding='SAME', \n",
        "                data_format='channels_last',\n",
        "                activation = 'relu',\n",
        "                input_shape = input_shape)(merged)\n",
        "\n",
        "## fourth Conv3D\n",
        "conv_4 = Conv3D(filters=num_filters, \n",
        "                kernel_size=(10, 3, 1), \n",
        "                padding='SAME', \n",
        "                data_format='channels_last',\n",
        "                activation = 'relu',\n",
        "                input_shape = input_shape)(conv_3)\n",
        "\n",
        "## flat the network in order to feed a simple ANN\n",
        "flat = Flatten()(conv_4)\n",
        "\n",
        "## Fully connected network\n",
        "dense_1 = Dense(10, activation='softmax')(flat)\n",
        "dense_2 = Dense(4, activation='softmax')(dense_1)\n",
        "\n",
        "out = Dense(2, activation='softmax')(dense_2)\n",
        "\n",
        "model = Model(inputs=inp, outputs=out)"
      ],
      "execution_count": 28,
      "outputs": []
    },
    {
      "cell_type": "code",
      "metadata": {
        "colab": {
          "base_uri": "https://localhost:8080/",
          "height": 856
        },
        "id": "sggZLIpdC6-m",
        "outputId": "e6183e6f-1e93-4ac3-a743-9c076e196a46"
      },
      "source": [
        "plot_model(model)"
      ],
      "execution_count": 29,
      "outputs": [
        {
          "output_type": "execute_result",
          "data": {
            "image/png": "[encoded data removed]",
            "text/plain": [
              "<IPython.core.display.Image object>"
            ]
          },
          "metadata": {
            "tags": []
          },
          "execution_count": 29
        }
      ]
    },
    {
      "cell_type": "code",
      "metadata": {
        "colab": {
          "base_uri": "https://localhost:8080/"
        },
        "id": "9OIhgbDkIIOP",
        "outputId": "4da3cd1e-b841-42ee-8c36-8f092254d523"
      },
      "source": [
        "# Compile the model\n",
        "model.compile(loss='binary_crossentropy',\n",
        "              optimizer=Adam(lr=0.001),\n",
        "              metrics=['accuracy'])\n",
        "\n",
        "model.summary()"
      ],
      "execution_count": 30,
      "outputs": [
        {
          "output_type": "stream",
          "text": [
            "Model: \"model_1\"\n",
            "__________________________________________________________________________________________________\n",
            "Layer (type)                    Output Shape         Param #     Connected to                     \n",
            "==================================================================================================\n",
            "input_2 (InputLayer)            [(None, 10, 10, 10,  0                                            \n",
            "__________________________________________________________________________________________________\n",
            "conv3d_5 (Conv3D)               (None, 10, 10, 10, 1 110         input_2[0][0]                    \n",
            "__________________________________________________________________________________________________\n",
            "conv3d_6 (Conv3D)               (None, 10, 10, 10, 1 910         input_2[0][0]                    \n",
            "__________________________________________________________________________________________________\n",
            "concatenate_1 (Concatenate)     (None, 20, 10, 10, 1 0           conv3d_5[0][0]                   \n",
            "                                                                 conv3d_6[0][0]                   \n",
            "__________________________________________________________________________________________________\n",
            "conv3d_7 (Conv3D)               (None, 20, 10, 10, 1 15010       concatenate_1[0][0]              \n",
            "__________________________________________________________________________________________________\n",
            "conv3d_8 (Conv3D)               (None, 20, 10, 10, 1 3010        conv3d_7[0][0]                   \n",
            "__________________________________________________________________________________________________\n",
            "flatten_1 (Flatten)             (None, 20000)        0           conv3d_8[0][0]                   \n",
            "__________________________________________________________________________________________________\n",
            "dense_3 (Dense)                 (None, 10)           200010      flatten_1[0][0]                  \n",
            "__________________________________________________________________________________________________\n",
            "dense_4 (Dense)                 (None, 4)            44          dense_3[0][0]                    \n",
            "__________________________________________________________________________________________________\n",
            "dense_5 (Dense)                 (None, 2)            10          dense_4[0][0]                    \n",
            "==================================================================================================\n",
            "Total params: 219,104\n",
            "Trainable params: 219,104\n",
            "Non-trainable params: 0\n",
            "__________________________________________________________________________________________________\n"
          ],
          "name": "stdout"
        }
      ]
    },
    {
      "cell_type": "code",
      "metadata": {
        "id": "qONSwDz8A1zY"
      },
      "source": [
        "model.fit(x_train, y_train,\n",
        "          batch_size=batch_size,\n",
        "          verbose = 0,\n",
        "          epochs=epochs);"
      ],
      "execution_count": 35,
      "outputs": []
    },
    {
      "cell_type": "code",
      "metadata": {
        "colab": {
          "base_uri": "https://localhost:8080/"
        },
        "id": "99sLR6vHMNNb",
        "outputId": "bfb8c620-39c5-43fa-b85a-d5baf90461bc"
      },
      "source": [
        "loss, accuracy = model.evaluate(x_test, y_test, batch_size = 32, verbose=0)\n",
        "print(f'Accuracy: %{accuracy*100}')\n",
        "print(f'Loss: %{loss*100}')"
      ],
      "execution_count": 36,
      "outputs": [
        {
          "output_type": "stream",
          "text": [
            "Accuracy: %51.99999809265137\n",
            "Loss: %69.46015954017639\n"
          ],
          "name": "stdout"
        }
      ]
    }
  ]
}